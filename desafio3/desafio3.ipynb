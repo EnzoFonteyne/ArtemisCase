{
 "cells": [
  {
   "cell_type": "markdown",
   "id": "898a507c",
   "metadata": {},
   "source": [
    "# Desafio 3 - SQL"
   ]
  },
  {
   "cell_type": "code",
   "execution_count": 9,
   "id": "6a34c89f",
   "metadata": {},
   "outputs": [],
   "source": [
    "import sqlite3\n",
    "import pandas as pd\n",
    "\n",
    "conn = sqlite3.connect('Loja.sqlite')\n",
    "cursor = conn.cursor()"
   ]
  },
  {
   "cell_type": "markdown",
   "id": "ad2dd4bd",
   "metadata": {},
   "source": [
    "## Consulta 1\n",
    "\n",
    "Escreva uma consulta SQL que mostre a lista de todos os clientes e seus respectivos pedidos, mesmo \n",
    "que o cliente não tenha feito nenhum pedido. A tabela resultante deve conter as colunas: Nome, \n",
    "PedidoID, DataPedido e ValorTotal."
   ]
  },
  {
   "cell_type": "code",
   "execution_count": null,
   "id": "7ed67afd",
   "metadata": {},
   "outputs": [
    {
     "data": {
      "text/html": [
       "<div>\n",
       "<style scoped>\n",
       "    .dataframe tbody tr th:only-of-type {\n",
       "        vertical-align: middle;\n",
       "    }\n",
       "\n",
       "    .dataframe tbody tr th {\n",
       "        vertical-align: top;\n",
       "    }\n",
       "\n",
       "    .dataframe thead th {\n",
       "        text-align: right;\n",
       "    }\n",
       "</style>\n",
       "<table border=\"1\" class=\"dataframe\">\n",
       "  <thead>\n",
       "    <tr style=\"text-align: right;\">\n",
       "      <th></th>\n",
       "      <th>Nome Cliente</th>\n",
       "      <th>PedidoID</th>\n",
       "      <th>Data Pedido</th>\n",
       "      <th>Valor Total</th>\n",
       "    </tr>\n",
       "  </thead>\n",
       "  <tbody>\n",
       "    <tr>\n",
       "      <th>0</th>\n",
       "      <td>Ana Silva</td>\n",
       "      <td>101.0</td>\n",
       "      <td>2025-01-10</td>\n",
       "      <td>250.0</td>\n",
       "    </tr>\n",
       "    <tr>\n",
       "      <th>1</th>\n",
       "      <td>João Pereira</td>\n",
       "      <td>102.0</td>\n",
       "      <td>2025-01-12</td>\n",
       "      <td>100.0</td>\n",
       "    </tr>\n",
       "    <tr>\n",
       "      <th>2</th>\n",
       "      <td>João Pereira</td>\n",
       "      <td>103.0</td>\n",
       "      <td>2025-01-15</td>\n",
       "      <td>150.0</td>\n",
       "    </tr>\n",
       "    <tr>\n",
       "      <th>3</th>\n",
       "      <td>Maria Souza</td>\n",
       "      <td>NaN</td>\n",
       "      <td>None</td>\n",
       "      <td>NaN</td>\n",
       "    </tr>\n",
       "  </tbody>\n",
       "</table>\n",
       "</div>"
      ],
      "text/plain": [
       "   Nome Cliente  PedidoID Data Pedido  Valor Total\n",
       "0     Ana Silva     101.0  2025-01-10        250.0\n",
       "1  João Pereira     102.0  2025-01-12        100.0\n",
       "2  João Pereira     103.0  2025-01-15        150.0\n",
       "3   Maria Souza       NaN        None          NaN"
      ]
     },
     "execution_count": 14,
     "metadata": {},
     "output_type": "execute_result"
    }
   ],
   "source": [
    "consulta1 = \"\"\"\n",
    "SELECT c.nome, p.PedidoID, p.DataPedido, p.ValorTotal\n",
    "FROM Clientes AS c\n",
    "LEFT JOIN Pedidos AS p \n",
    "ON c.ClienteID = p.ClienteID\n",
    "\"\"\"\n",
    "res_consulta1 = cursor.execute(consulta1).fetchall()\n",
    "\n",
    "df_consulta1 = pd.DataFrame(res_consulta1, columns=['Nome Cliente', 'PedidoID', 'Data Pedido', 'Valor Total'])\n",
    "\n",
    "df_consulta1"
   ]
  },
  {
   "cell_type": "markdown",
   "id": "ed71af2f",
   "metadata": {},
   "source": [
    "## Consulta 2\n",
    "\n",
    "Escreva uma consulta SQL que exiba o total de pedidos realizados e o valor total de pedidos por cliente, apenas para os clientes que possuem pedidos registrados. A tabela resultante deve conter as colunas: Nome, QuantidadePedidos e ValorTotalPedidos."
   ]
  },
  {
   "cell_type": "code",
   "execution_count": 17,
   "id": "5f1ff949",
   "metadata": {},
   "outputs": [
    {
     "data": {
      "text/html": [
       "<div>\n",
       "<style scoped>\n",
       "    .dataframe tbody tr th:only-of-type {\n",
       "        vertical-align: middle;\n",
       "    }\n",
       "\n",
       "    .dataframe tbody tr th {\n",
       "        vertical-align: top;\n",
       "    }\n",
       "\n",
       "    .dataframe thead th {\n",
       "        text-align: right;\n",
       "    }\n",
       "</style>\n",
       "<table border=\"1\" class=\"dataframe\">\n",
       "  <thead>\n",
       "    <tr style=\"text-align: right;\">\n",
       "      <th></th>\n",
       "      <th>Nome Cliente</th>\n",
       "      <th>QuantidadePedidos</th>\n",
       "      <th>Valor Total</th>\n",
       "    </tr>\n",
       "  </thead>\n",
       "  <tbody>\n",
       "    <tr>\n",
       "      <th>0</th>\n",
       "      <td>Ana Silva</td>\n",
       "      <td>1</td>\n",
       "      <td>250.0</td>\n",
       "    </tr>\n",
       "    <tr>\n",
       "      <th>1</th>\n",
       "      <td>João Pereira</td>\n",
       "      <td>2</td>\n",
       "      <td>250.0</td>\n",
       "    </tr>\n",
       "  </tbody>\n",
       "</table>\n",
       "</div>"
      ],
      "text/plain": [
       "   Nome Cliente  QuantidadePedidos  Valor Total\n",
       "0     Ana Silva                  1        250.0\n",
       "1  João Pereira                  2        250.0"
      ]
     },
     "execution_count": 17,
     "metadata": {},
     "output_type": "execute_result"
    }
   ],
   "source": [
    "consulta2 = \"\"\"\n",
    "SELECT c.Nome, COUNT(p.PedidoID) AS QuantidadePedidos, SUM(p.ValorTotal) AS ValorTotal\n",
    "FROM Clientes AS c\n",
    "INNER JOIN Pedidos AS p \n",
    "ON c.ClienteID = p.ClienteID\n",
    "GROUP BY c.ClienteID\n",
    "\"\"\"\n",
    "\n",
    "res_consulta2 = cursor.execute(consulta2).fetchall()\n",
    "\n",
    "df_consulta2 = pd.DataFrame(res_consulta2, columns=['Nome Cliente', 'QuantidadePedidos', 'Valor Total'])\n",
    "df_consulta2"
   ]
  },
  {
   "cell_type": "markdown",
   "id": "134438e6",
   "metadata": {},
   "source": [
    "## Consulta 3\n",
    "\n",
    "Escreva uma consulta SQL que exiba os pedidos que não possuem pagamentos registrados. A tabela resultante deve conter as colunas: PedidoID, DataPedido e ValorTotal."
   ]
  },
  {
   "cell_type": "code",
   "execution_count": 18,
   "id": "80248efd",
   "metadata": {},
   "outputs": [
    {
     "data": {
      "text/html": [
       "<div>\n",
       "<style scoped>\n",
       "    .dataframe tbody tr th:only-of-type {\n",
       "        vertical-align: middle;\n",
       "    }\n",
       "\n",
       "    .dataframe tbody tr th {\n",
       "        vertical-align: top;\n",
       "    }\n",
       "\n",
       "    .dataframe thead th {\n",
       "        text-align: right;\n",
       "    }\n",
       "</style>\n",
       "<table border=\"1\" class=\"dataframe\">\n",
       "  <thead>\n",
       "    <tr style=\"text-align: right;\">\n",
       "      <th></th>\n",
       "      <th>PedidoID</th>\n",
       "      <th>Data Pedido</th>\n",
       "      <th>Valor Total</th>\n",
       "    </tr>\n",
       "  </thead>\n",
       "  <tbody>\n",
       "    <tr>\n",
       "      <th>0</th>\n",
       "      <td>102</td>\n",
       "      <td>2025-01-12</td>\n",
       "      <td>100.0</td>\n",
       "    </tr>\n",
       "    <tr>\n",
       "      <th>1</th>\n",
       "      <td>104</td>\n",
       "      <td>2025-01-17</td>\n",
       "      <td>200.0</td>\n",
       "    </tr>\n",
       "  </tbody>\n",
       "</table>\n",
       "</div>"
      ],
      "text/plain": [
       "   PedidoID Data Pedido  Valor Total\n",
       "0       102  2025-01-12        100.0\n",
       "1       104  2025-01-17        200.0"
      ]
     },
     "execution_count": 18,
     "metadata": {},
     "output_type": "execute_result"
    }
   ],
   "source": [
    "consulta3 = \"\"\"\n",
    "SELECT p.PedidoID, p.DataPedido, p.ValorTotal\n",
    "FROM Pedidos AS p\n",
    "WHERE p.PedidoID NOT IN (\n",
    "    SELECT PedidoID FROM Pagamentos\n",
    ")\n",
    "\"\"\" \n",
    "\n",
    "res_consulta3 = cursor.execute(consulta3).fetchall()\n",
    "\n",
    "df_consulta3 = pd.DataFrame(res_consulta3, columns=['PedidoID', 'Data Pedido', 'Valor Total'])\n",
    "df_consulta3"
   ]
  }
 ],
 "metadata": {
  "kernelspec": {
   "display_name": "base",
   "language": "python",
   "name": "python3"
  },
  "language_info": {
   "codemirror_mode": {
    "name": "ipython",
    "version": 3
   },
   "file_extension": ".py",
   "mimetype": "text/x-python",
   "name": "python",
   "nbconvert_exporter": "python",
   "pygments_lexer": "ipython3",
   "version": "3.9.13"
  }
 },
 "nbformat": 4,
 "nbformat_minor": 5
}
